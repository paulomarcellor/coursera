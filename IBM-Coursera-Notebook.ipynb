{
 "cells": [
  {
   "cell_type": "markdown",
   "id": "b5f92dc0",
   "metadata": {},
   "source": [
    "# Paulo's notebook for Coursera's task"
   ]
  },
  {
   "cell_type": "markdown",
   "id": "ac5d99b3",
   "metadata": {},
   "source": [
    "This is a notebook used for coursera's task \"Create and share your jupyter notebook\", from \"Data Science Tools\"."
   ]
  },
  {
   "cell_type": "markdown",
   "id": "6c57b146",
   "metadata": {},
   "source": [
    "### Data Science programming languages are, among others:\n",
    "\n",
    "- Python\n",
    "- R\n",
    "- Julia\n",
    "- Scala\n",
    "- Java\n",
    "- C++\n",
    "- Ruby"
   ]
  },
  {
   "cell_type": "markdown",
   "id": "f54bea2d",
   "metadata": {},
   "source": [
    "### Data Science's libraries are, among others:\n",
    "\n",
    "- Pandas\n",
    "- Numpy\n",
    "- Matplotlib\n",
    "- SciPy\n",
    "- Scikit-learn\n",
    "- Tensorflow\n",
    "- Keras\n",
    "- PyTorch"
   ]
  },
  {
   "cell_type": "markdown",
   "id": "d791493e",
   "metadata": {},
   "source": [
    "### Data Science tools:\n",
    "\n",
    "| Tool               | Description                                     |\n",
    "|--------------------|-------------------------------------------------|\n",
    "| Jupyter Notebook   | Environment for data science            |\n",
    "| RStudio            | R programming                       |\n",
    "| Anaconda           | Distribution for Python and R |\n",
    "| Apache Spark       | Big data / distributed processing        |\n",
    "| Google Colab       | Free cloud for jupyter notebooks development             |"
   ]
  },
  {
   "cell_type": "markdown",
   "id": "39fea387",
   "metadata": {},
   "source": [
    "### Arithmetic expression exemple\n",
    "\n",
    "$$\n",
    "  y_{w} = (1000 + x_{w+1}) + x(w) + x_{t+1}\n",
    "$$"
   ]
  },
  {
   "cell_type": "code",
   "execution_count": 5,
   "id": "b8203650",
   "metadata": {},
   "outputs": [
    {
     "data": {
      "text/plain": [
       "53"
      ]
     },
     "execution_count": 5,
     "metadata": {},
     "output_type": "execute_result"
    }
   ],
   "source": [
    "def multiply_add_numbers(number, multiplier, add):\n",
    "    return (number*multiplier)+add\n",
    "\n",
    "multiply_add_numbers(10, 5, 3)"
   ]
  },
  {
   "cell_type": "code",
   "execution_count": 7,
   "id": "784f5b03",
   "metadata": {},
   "outputs": [
    {
     "data": {
      "text/plain": [
       "'3 hours and 20 minutes'"
      ]
     },
     "execution_count": 7,
     "metadata": {},
     "output_type": "execute_result"
    }
   ],
   "source": [
    "def minutes_to_hours(minutes):\n",
    "    hours = minutes//60\n",
    "    minutes_fraction = minutes%60\n",
    "    return f\"{hours} hours and {minutes_fraction} minutes\"\n",
    "\n",
    "minutes_to_hours(200)"
   ]
  },
  {
   "cell_type": "markdown",
   "id": "7a8e762e",
   "metadata": {},
   "source": [
    "### Objectives:\n",
    "\n",
    "- Finish the task\n",
    "- Finish course\n",
    "- Finish certification"
   ]
  },
  {
   "cell_type": "markdown",
   "id": "97f2df46",
   "metadata": {},
   "source": [
    "### Notebook created by: Paulo Marcello Ribeiro"
   ]
  }
 ],
 "metadata": {
  "kernelspec": {
   "display_name": "Python 3 (ipykernel)",
   "language": "python",
   "name": "python3"
  },
  "language_info": {
   "codemirror_mode": {
    "name": "ipython",
    "version": 3
   },
   "file_extension": ".py",
   "mimetype": "text/x-python",
   "name": "python",
   "nbconvert_exporter": "python",
   "pygments_lexer": "ipython3",
   "version": "3.9.13"
  }
 },
 "nbformat": 4,
 "nbformat_minor": 5
}

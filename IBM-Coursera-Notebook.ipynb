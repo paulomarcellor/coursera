{
 "cells": [
  {
   "cell_type": "markdown",
   "id": "b5f92dc0",
   "metadata": {},
   "source": [
    "# Data Science Tools and Ecosystem"
   ]
  },
  {
   "cell_type": "markdown",
   "id": "ac5d99b3",
   "metadata": {},
   "source": [
    "In this notebook, Data Science Tools and Ecosystem are summarized."
   ]
  },
  {
   "cell_type": "markdown",
   "id": "6c57b146",
   "metadata": {},
   "source": [
    "### Data Science programming languages are, among others:\n",
    "\n",
    "1. Python\n",
    "2. R\n",
    "3. Julia"
   ]
  },
  {
   "cell_type": "markdown",
   "id": "f54bea2d",
   "metadata": {},
   "source": [
    "### Data Science's libraries are, among others:\n",
    "\n",
    "1. Pandas\n",
    "2. Numpy\n",
    "3. Scikit-learn"
   ]
  },
  {
   "cell_type": "markdown",
   "id": "d791493e",
   "metadata": {},
   "source": [
    "### Data Science tools:\n",
    "\n",
    "| Tool               | Description                                     |\n",
    "|--------------------|-------------------------------------------------|\n",
    "| Jupyter Notebook   | Environment for data science            |\n",
    "| RStudio            | R programming                       |\n",
    "| Apache Spark       | Big data / distributed processing        |"
   ]
  },
  {
   "cell_type": "markdown",
   "id": "39fea387",
   "metadata": {},
   "source": [
    "### Arithmetic expression exemple\n",
    "\n",
    "$$\n",
    "  y = ax + b\n",
    "$$\n",
    "\n",
    "$$\n",
    "  y_{w} = (1000 + x_{w+1}) + x(w) + x_{t+1}\n",
    "$$"
   ]
  },
  {
   "cell_type": "code",
   "execution_count": 1,
   "id": "b8203650",
   "metadata": {},
   "outputs": [
    {
     "data": {
      "text/plain": [
       "17"
      ]
     },
     "execution_count": 1,
     "metadata": {},
     "output_type": "execute_result"
    }
   ],
   "source": [
    "# This is a simple arithmetic expression to mutiply then add integers\n",
    "def multiply_add_numbers(number, multiplier, add):\n",
    "    return (number*multiplier)+add\n",
    "\n",
    "multiply_add_numbers(3, 4, 5)"
   ]
  },
  {
   "cell_type": "code",
   "execution_count": 2,
   "id": "784f5b03",
   "metadata": {},
   "outputs": [
    {
     "data": {
      "text/plain": [
       "'3 hours and 20 minutes'"
      ]
     },
     "execution_count": 2,
     "metadata": {},
     "output_type": "execute_result"
    }
   ],
   "source": [
    "# This will convert 200 minutes to hours by diving by 60\n",
    "def minutes_to_hours(minutes):\n",
    "    hours = minutes//60\n",
    "    minutes_fraction = minutes%60\n",
    "    return f\"{hours} hours and {minutes_fraction} minutes\"\n",
    "\n",
    "minutes_to_hours(200)"
   ]
  },
  {
   "cell_type": "markdown",
   "id": "7a8e762e",
   "metadata": {},
   "source": [
    "### Objectives:\n",
    "\n",
    "- Create markdown cells to list stuff\n",
    "- Create markdown cells with tables\n",
    "- Create algorith to do math operations"
   ]
  },
  {
   "cell_type": "markdown",
   "id": "97f2df46",
   "metadata": {},
   "source": [
    "## Author\n",
    "Paulo Marcello Ribeiro"
   ]
  },
  {
   "cell_type": "code",
   "execution_count": null,
   "id": "befdc3b8",
   "metadata": {},
   "outputs": [],
   "source": []
  }
 ],
 "metadata": {
  "kernelspec": {
   "display_name": "Python 3 (ipykernel)",
   "language": "python",
   "name": "python3"
  },
  "language_info": {
   "codemirror_mode": {
    "name": "ipython",
    "version": 3
   },
   "file_extension": ".py",
   "mimetype": "text/x-python",
   "name": "python",
   "nbconvert_exporter": "python",
   "pygments_lexer": "ipython3",
   "version": "3.9.13"
  }
 },
 "nbformat": 4,
 "nbformat_minor": 5
}
